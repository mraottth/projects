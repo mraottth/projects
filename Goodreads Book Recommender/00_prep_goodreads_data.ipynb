{
 "cells": [
  {
   "cell_type": "code",
   "execution_count": 28,
   "metadata": {},
   "outputs": [],
   "source": [
    "import pandas as pd\n",
    "import numpy as np\n",
    "import matplotlib.pyplot as plt\n",
    "import seaborn as sns\n",
    "import json\n",
    "from IPython.display import clear_output\n",
    "import os\n",
    "from scipy.sparse import csr_matrix, save_npz\n",
    "from pandas.api.types import CategoricalDtype\n",
    "import gzip\n",
    "import shutil\n",
    "import requests"
   ]
  },
  {
   "cell_type": "markdown",
   "metadata": {},
   "source": [
    "### Part 1a - Importing and Cleaning Books Data"
   ]
  },
  {
   "cell_type": "markdown",
   "metadata": {},
   "source": [
    "Data Found Here:\n",
    "https://sites.google.com/eng.ucsd.edu/ucsdbookgraph/home?authuser=0"
   ]
  },
  {
   "cell_type": "code",
   "execution_count": 29,
   "metadata": {},
   "outputs": [],
   "source": [
    "# Function to download genres dataset from UCSD source\n",
    "def download_data(filename, new_filename):\n",
    "    wd = os.getcwd()\n",
    "    url = \"https://datarepo.eng.ucsd.edu/mcauley_group/gdrive/goodreads/\" + filename\n",
    "        \n",
    "    def download_by_name(fname, local_filename):\n",
    "\n",
    "        with requests.get(url, stream=True) as r:\n",
    "            r.raise_for_status()\n",
    "            with open(local_filename, 'wb') as f:\n",
    "                for chunk in r.iter_content(chunk_size=8192):\n",
    "                    f.write(chunk)\n",
    "            \n",
    "    output_path = os.path.join(wd, filename)\n",
    "    download_by_name(filename, output_path)\n",
    "\n",
    "    # Unzip and convert to json\n",
    "    with gzip.open(filename, 'rb') as f_in:\n",
    "        with open(new_filename, 'wb') as f_out:\n",
    "            shutil.copyfileobj(f_in, f_out)"
   ]
  },
  {
   "cell_type": "code",
   "execution_count": 30,
   "metadata": {},
   "outputs": [
    {
     "data": {
      "text/html": [
       "<div>\n",
       "<style scoped>\n",
       "    .dataframe tbody tr th:only-of-type {\n",
       "        vertical-align: middle;\n",
       "    }\n",
       "\n",
       "    .dataframe tbody tr th {\n",
       "        vertical-align: top;\n",
       "    }\n",
       "\n",
       "    .dataframe thead th {\n",
       "        text-align: right;\n",
       "    }\n",
       "</style>\n",
       "<table border=\"1\" class=\"dataframe\">\n",
       "  <thead>\n",
       "    <tr style=\"text-align: right;\">\n",
       "      <th></th>\n",
       "      <th>book_id</th>\n",
       "      <th>genres</th>\n",
       "    </tr>\n",
       "  </thead>\n",
       "  <tbody>\n",
       "    <tr>\n",
       "      <th>0</th>\n",
       "      <td>5333265</td>\n",
       "      <td>{'history, historical fiction, biography': 1}</td>\n",
       "    </tr>\n",
       "    <tr>\n",
       "      <th>1</th>\n",
       "      <td>1333909</td>\n",
       "      <td>{'fiction': 219, 'history, historical fiction,...</td>\n",
       "    </tr>\n",
       "    <tr>\n",
       "      <th>2</th>\n",
       "      <td>7327624</td>\n",
       "      <td>{'fantasy, paranormal': 31, 'fiction': 8, 'mys...</td>\n",
       "    </tr>\n",
       "    <tr>\n",
       "      <th>3</th>\n",
       "      <td>6066819</td>\n",
       "      <td>{'fiction': 555, 'romance': 23, 'mystery, thri...</td>\n",
       "    </tr>\n",
       "    <tr>\n",
       "      <th>4</th>\n",
       "      <td>287140</td>\n",
       "      <td>{'non-fiction': 3}</td>\n",
       "    </tr>\n",
       "  </tbody>\n",
       "</table>\n",
       "</div>"
      ],
      "text/plain": [
       "   book_id                                             genres\n",
       "0  5333265      {'history, historical fiction, biography': 1}\n",
       "1  1333909  {'fiction': 219, 'history, historical fiction,...\n",
       "2  7327624  {'fantasy, paranormal': 31, 'fiction': 8, 'mys...\n",
       "3  6066819  {'fiction': 555, 'romance': 23, 'mystery, thri...\n",
       "4   287140                                 {'non-fiction': 3}"
      ]
     },
     "metadata": {},
     "output_type": "display_data"
    },
    {
     "name": "stdout",
     "output_type": "stream",
     "text": [
      "<class 'pandas.core.frame.DataFrame'>\n",
      "RangeIndex: 2360655 entries, 0 to 2360654\n",
      "Data columns (total 2 columns):\n",
      " #   Column   Dtype \n",
      "---  ------   ----- \n",
      " 0   book_id  int64 \n",
      " 1   genres   object\n",
      "dtypes: int64(1), object(1)\n",
      "memory usage: 36.0+ MB\n",
      "None\n"
     ]
    }
   ],
   "source": [
    "# Read in genres table\n",
    "wd = os.getcwd()\n",
    "download_data(\"goodreads_book_genres_initial.json.gz\", \"genres.json\")\n",
    "df_genres = pd.read_json(wd + \"/genres.json\", lines=True)\n",
    "display(df_genres.head())\n",
    "print(df_genres.info())"
   ]
  },
  {
   "cell_type": "code",
   "execution_count": 31,
   "metadata": {},
   "outputs": [
    {
     "data": {
      "text/plain": [
       "{'history, historical fiction, biography': 663795,\n",
       " 'fiction': 1244112,\n",
       " 'fantasy, paranormal': 538311,\n",
       " 'mystery, thriller, crime': 523156,\n",
       " 'poetry': 88630,\n",
       " 'romance': 658719,\n",
       " 'non-fiction': 533491,\n",
       " 'children': 256935,\n",
       " 'young-adult': 364114,\n",
       " 'comics, graphic': 171279}"
      ]
     },
     "execution_count": 31,
     "metadata": {},
     "output_type": "execute_result"
    }
   ],
   "source": [
    "# Get counts for all distinct genres\n",
    "all_genres = {}\n",
    "for nt in df_genres.itertuples():\n",
    "    keys = list(nt.genres.keys())\n",
    "    genres = []\n",
    "    for k in keys:\n",
    "        split_k = str(k)\n",
    "        if split_k in all_genres:\n",
    "            all_genres[split_k] += 1\n",
    "        else:\n",
    "            all_genres[split_k] = 1\n",
    "all_genres"
   ]
  },
  {
   "cell_type": "code",
   "execution_count": 32,
   "metadata": {},
   "outputs": [],
   "source": [
    "# Extract genres into dummy variables for each book\n",
    "genres = [\n",
    "    \"history\",\"fiction\",\"fantasy\",\"mystery\",\"poetry\",\"romance\",\"non_fiction\",\"children\",\"YA\",\"comic\",\"none\"\n",
    "    ]\n",
    "dummies = []\n",
    "for nt in df_genres.itertuples():\n",
    "    keys = list(nt.genres.keys())   \n",
    "    genre_dummies = []\n",
    "\n",
    "    # Loop through genres\n",
    "    for i in range(len(all_genres)):\n",
    "\n",
    "        # If book is genre, add 1 for dummy\n",
    "        if list(all_genres.keys())[i] in keys:\n",
    "            genre_dummies.append(1)\n",
    "        else:\n",
    "            genre_dummies.append(0)\n",
    "    \n",
    "    # If no genres apply\n",
    "    if sum(genre_dummies) == 0:\n",
    "        genre_dummies.append(1)\n",
    "    else:\n",
    "        genre_dummies.append(0)\n",
    "\n",
    "    dummies.append(genre_dummies)\n",
    "\n",
    "# Create genre dummy columns\n",
    "df_genres[genres] = dummies"
   ]
  },
  {
   "cell_type": "code",
   "execution_count": 33,
   "metadata": {},
   "outputs": [
    {
     "data": {
      "text/html": [
       "<div>\n",
       "<style scoped>\n",
       "    .dataframe tbody tr th:only-of-type {\n",
       "        vertical-align: middle;\n",
       "    }\n",
       "\n",
       "    .dataframe tbody tr th {\n",
       "        vertical-align: top;\n",
       "    }\n",
       "\n",
       "    .dataframe thead th {\n",
       "        text-align: right;\n",
       "    }\n",
       "</style>\n",
       "<table border=\"1\" class=\"dataframe\">\n",
       "  <thead>\n",
       "    <tr style=\"text-align: right;\">\n",
       "      <th></th>\n",
       "      <th>books_count</th>\n",
       "      <th>reviews_count</th>\n",
       "      <th>original_publication_month</th>\n",
       "      <th>default_description_language_code</th>\n",
       "      <th>text_reviews_count</th>\n",
       "      <th>best_book_id</th>\n",
       "      <th>original_publication_year</th>\n",
       "      <th>original_title</th>\n",
       "      <th>rating_dist</th>\n",
       "      <th>default_chaptering_book_id</th>\n",
       "      <th>original_publication_day</th>\n",
       "      <th>original_language_id</th>\n",
       "      <th>ratings_count</th>\n",
       "      <th>media_type</th>\n",
       "      <th>ratings_sum</th>\n",
       "      <th>work_id</th>\n",
       "    </tr>\n",
       "  </thead>\n",
       "  <tbody>\n",
       "    <tr>\n",
       "      <th>0</th>\n",
       "      <td>1</td>\n",
       "      <td>6</td>\n",
       "      <td>8</td>\n",
       "      <td></td>\n",
       "      <td>1</td>\n",
       "      <td>5333265</td>\n",
       "      <td>1984</td>\n",
       "      <td>W. C. Fields: A Life on Film</td>\n",
       "      <td>5:1|4:1|3:1|2:0|1:0|total:3</td>\n",
       "      <td></td>\n",
       "      <td></td>\n",
       "      <td></td>\n",
       "      <td>3</td>\n",
       "      <td>book</td>\n",
       "      <td>12</td>\n",
       "      <td>5400751</td>\n",
       "    </tr>\n",
       "    <tr>\n",
       "      <th>1</th>\n",
       "      <td>22</td>\n",
       "      <td>10162</td>\n",
       "      <td></td>\n",
       "      <td></td>\n",
       "      <td>741</td>\n",
       "      <td>25717</td>\n",
       "      <td>2001</td>\n",
       "      <td>Good Harbor</td>\n",
       "      <td>5:517|4:1787|3:2763|2:966|1:196|total:6229</td>\n",
       "      <td></td>\n",
       "      <td></td>\n",
       "      <td></td>\n",
       "      <td>6229</td>\n",
       "      <td>book</td>\n",
       "      <td>20150</td>\n",
       "      <td>1323437</td>\n",
       "    </tr>\n",
       "    <tr>\n",
       "      <th>2</th>\n",
       "      <td>2</td>\n",
       "      <td>268</td>\n",
       "      <td></td>\n",
       "      <td></td>\n",
       "      <td>7</td>\n",
       "      <td>7327624</td>\n",
       "      <td>1987</td>\n",
       "      <td></td>\n",
       "      <td>5:49|4:58|3:26|2:5|1:3|total:141</td>\n",
       "      <td></td>\n",
       "      <td></td>\n",
       "      <td></td>\n",
       "      <td>141</td>\n",
       "      <td>book</td>\n",
       "      <td>568</td>\n",
       "      <td>8948723</td>\n",
       "    </tr>\n",
       "    <tr>\n",
       "      <th>3</th>\n",
       "      <td>38</td>\n",
       "      <td>89252</td>\n",
       "      <td>7</td>\n",
       "      <td></td>\n",
       "      <td>3504</td>\n",
       "      <td>6066819</td>\n",
       "      <td>2009</td>\n",
       "      <td>Best Friends Forever</td>\n",
       "      <td>5:9152|4:16855|3:19507|2:6210|1:1549|total:53273</td>\n",
       "      <td></td>\n",
       "      <td>14</td>\n",
       "      <td></td>\n",
       "      <td>53273</td>\n",
       "      <td>book</td>\n",
       "      <td>185670</td>\n",
       "      <td>6243154</td>\n",
       "    </tr>\n",
       "    <tr>\n",
       "      <th>4</th>\n",
       "      <td>2</td>\n",
       "      <td>49</td>\n",
       "      <td></td>\n",
       "      <td></td>\n",
       "      <td>5</td>\n",
       "      <td>287140</td>\n",
       "      <td>1990</td>\n",
       "      <td>Runic Astrology: Starcraft and Timekeeping in ...</td>\n",
       "      <td>5:6|4:1|3:3|2:3|1:2|total:15</td>\n",
       "      <td></td>\n",
       "      <td></td>\n",
       "      <td></td>\n",
       "      <td>15</td>\n",
       "      <td>book</td>\n",
       "      <td>51</td>\n",
       "      <td>278577</td>\n",
       "    </tr>\n",
       "  </tbody>\n",
       "</table>\n",
       "</div>"
      ],
      "text/plain": [
       "   books_count  reviews_count original_publication_month  \\\n",
       "0            1              6                          8   \n",
       "1           22          10162                              \n",
       "2            2            268                              \n",
       "3           38          89252                          7   \n",
       "4            2             49                              \n",
       "\n",
       "  default_description_language_code  text_reviews_count  best_book_id  \\\n",
       "0                                                     1       5333265   \n",
       "1                                                   741         25717   \n",
       "2                                                     7       7327624   \n",
       "3                                                  3504       6066819   \n",
       "4                                                     5        287140   \n",
       "\n",
       "  original_publication_year  \\\n",
       "0                      1984   \n",
       "1                      2001   \n",
       "2                      1987   \n",
       "3                      2009   \n",
       "4                      1990   \n",
       "\n",
       "                                      original_title  \\\n",
       "0                       W. C. Fields: A Life on Film   \n",
       "1                                        Good Harbor   \n",
       "2                                                      \n",
       "3                               Best Friends Forever   \n",
       "4  Runic Astrology: Starcraft and Timekeeping in ...   \n",
       "\n",
       "                                        rating_dist  \\\n",
       "0                       5:1|4:1|3:1|2:0|1:0|total:3   \n",
       "1        5:517|4:1787|3:2763|2:966|1:196|total:6229   \n",
       "2                  5:49|4:58|3:26|2:5|1:3|total:141   \n",
       "3  5:9152|4:16855|3:19507|2:6210|1:1549|total:53273   \n",
       "4                      5:6|4:1|3:3|2:3|1:2|total:15   \n",
       "\n",
       "  default_chaptering_book_id original_publication_day original_language_id  \\\n",
       "0                                                                            \n",
       "1                                                                            \n",
       "2                                                                            \n",
       "3                                                  14                        \n",
       "4                                                                            \n",
       "\n",
       "   ratings_count media_type  ratings_sum  work_id  \n",
       "0              3       book           12  5400751  \n",
       "1           6229       book        20150  1323437  \n",
       "2            141       book          568  8948723  \n",
       "3          53273       book       185670  6243154  \n",
       "4             15       book           51   278577  "
      ]
     },
     "metadata": {},
     "output_type": "display_data"
    },
    {
     "name": "stdout",
     "output_type": "stream",
     "text": [
      "<class 'pandas.core.frame.DataFrame'>\n",
      "RangeIndex: 1521962 entries, 0 to 1521961\n",
      "Data columns (total 16 columns):\n",
      " #   Column                             Non-Null Count    Dtype \n",
      "---  ------                             --------------    ----- \n",
      " 0   books_count                        1521962 non-null  int64 \n",
      " 1   reviews_count                      1521962 non-null  int64 \n",
      " 2   original_publication_month         1521962 non-null  object\n",
      " 3   default_description_language_code  1521962 non-null  object\n",
      " 4   text_reviews_count                 1521962 non-null  int64 \n",
      " 5   best_book_id                       1521962 non-null  int64 \n",
      " 6   original_publication_year          1521962 non-null  object\n",
      " 7   original_title                     1521962 non-null  object\n",
      " 8   rating_dist                        1521962 non-null  object\n",
      " 9   default_chaptering_book_id         1521962 non-null  object\n",
      " 10  original_publication_day           1521962 non-null  object\n",
      " 11  original_language_id               1521962 non-null  object\n",
      " 12  ratings_count                      1521962 non-null  int64 \n",
      " 13  media_type                         1521962 non-null  object\n",
      " 14  ratings_sum                        1521962 non-null  int64 \n",
      " 15  work_id                            1521962 non-null  int64 \n",
      "dtypes: int64(7), object(9)\n",
      "memory usage: 185.8+ MB\n",
      "None\n"
     ]
    }
   ],
   "source": [
    "# Read in short version of books table \n",
    "download_data(\"goodreads_book_works.json.gz\", \"goodreads_book_works.json\")\n",
    "df_books_short = pd.read_json(wd + \"/goodreads_book_works.json\", lines=True)\n",
    "display(df_books_short.head())\n",
    "print(df_books_short.info())"
   ]
  },
  {
   "cell_type": "code",
   "execution_count": 34,
   "metadata": {},
   "outputs": [
    {
     "name": "stdout",
     "output_type": "stream",
     "text": [
      "Processing row: 2,350,000\n",
      "Completed! Processed 2,360,655 rows\n"
     ]
    }
   ],
   "source": [
    "# Read in select fields from long version of books table\n",
    "col_names = [\n",
    "    \"book_id\",\"title\",\"average_rating\",\"ratings_count\",\"publication_year\",\"language_code\",\"image_url\",\"url\"\n",
    "    ]\n",
    "json_data = []\n",
    "download_data(\"goodreads_books.json.gz\", \"goodreads_books.json\")\n",
    "file_name = wd + \"/goodreads_books.json\"\n",
    "\n",
    "with open(file_name, encoding='UTF-8') as f:\n",
    "    i = 0\n",
    "    for line in f:\n",
    "        doc = json.loads(line)\n",
    "        lst = [doc[col_names[i]] for i in range(len(col_names))]\n",
    "        json_data.append(lst)\n",
    "        if i % 50000 == 0:\n",
    "            clear_output(wait=True)\n",
    "            print(f\"Processing row: {i:,d}\")\n",
    "        i += 1\n",
    "    print(f\"Completed! Processed {i:,d} rows\")\n",
    "\n",
    "df_books = pd.DataFrame(data=json_data, columns=col_names)"
   ]
  },
  {
   "cell_type": "code",
   "execution_count": 35,
   "metadata": {},
   "outputs": [
    {
     "data": {
      "text/html": [
       "<div>\n",
       "<style scoped>\n",
       "    .dataframe tbody tr th:only-of-type {\n",
       "        vertical-align: middle;\n",
       "    }\n",
       "\n",
       "    .dataframe tbody tr th {\n",
       "        vertical-align: top;\n",
       "    }\n",
       "\n",
       "    .dataframe thead th {\n",
       "        text-align: right;\n",
       "    }\n",
       "</style>\n",
       "<table border=\"1\" class=\"dataframe\">\n",
       "  <thead>\n",
       "    <tr style=\"text-align: right;\">\n",
       "      <th></th>\n",
       "      <th>book_id</th>\n",
       "      <th>title</th>\n",
       "      <th>average_rating</th>\n",
       "      <th>ratings_count</th>\n",
       "      <th>publication_year</th>\n",
       "      <th>language_code</th>\n",
       "      <th>image_url</th>\n",
       "      <th>url</th>\n",
       "    </tr>\n",
       "  </thead>\n",
       "  <tbody>\n",
       "    <tr>\n",
       "      <th>0</th>\n",
       "      <td>5333265</td>\n",
       "      <td>W.C. Fields: A Life on Film</td>\n",
       "      <td>4.00</td>\n",
       "      <td>3</td>\n",
       "      <td>1984</td>\n",
       "      <td></td>\n",
       "      <td>https://images.gr-assets.com/books/1310220028m...</td>\n",
       "      <td>https://www.goodreads.com/book/show/5333265-w-...</td>\n",
       "    </tr>\n",
       "    <tr>\n",
       "      <th>1</th>\n",
       "      <td>1333909</td>\n",
       "      <td>Good Harbor</td>\n",
       "      <td>3.23</td>\n",
       "      <td>10</td>\n",
       "      <td>2001</td>\n",
       "      <td></td>\n",
       "      <td>https://s.gr-assets.com/assets/nophoto/book/11...</td>\n",
       "      <td>https://www.goodreads.com/book/show/1333909.Go...</td>\n",
       "    </tr>\n",
       "    <tr>\n",
       "      <th>2</th>\n",
       "      <td>7327624</td>\n",
       "      <td>The Unschooled Wizard (Sun Wolf and Starhawk, ...</td>\n",
       "      <td>4.03</td>\n",
       "      <td>140</td>\n",
       "      <td>1987</td>\n",
       "      <td>eng</td>\n",
       "      <td>https://images.gr-assets.com/books/1304100136m...</td>\n",
       "      <td>https://www.goodreads.com/book/show/7327624-th...</td>\n",
       "    </tr>\n",
       "    <tr>\n",
       "      <th>3</th>\n",
       "      <td>6066819</td>\n",
       "      <td>Best Friends Forever</td>\n",
       "      <td>3.49</td>\n",
       "      <td>51184</td>\n",
       "      <td>2009</td>\n",
       "      <td>eng</td>\n",
       "      <td>https://s.gr-assets.com/assets/nophoto/book/11...</td>\n",
       "      <td>https://www.goodreads.com/book/show/6066819-be...</td>\n",
       "    </tr>\n",
       "    <tr>\n",
       "      <th>4</th>\n",
       "      <td>287140</td>\n",
       "      <td>Runic Astrology: Starcraft and Timekeeping in ...</td>\n",
       "      <td>3.40</td>\n",
       "      <td>15</td>\n",
       "      <td></td>\n",
       "      <td></td>\n",
       "      <td>https://images.gr-assets.com/books/1413219371m...</td>\n",
       "      <td>https://www.goodreads.com/book/show/287140.Run...</td>\n",
       "    </tr>\n",
       "  </tbody>\n",
       "</table>\n",
       "</div>"
      ],
      "text/plain": [
       "   book_id                                              title average_rating  \\\n",
       "0  5333265                        W.C. Fields: A Life on Film           4.00   \n",
       "1  1333909                                        Good Harbor           3.23   \n",
       "2  7327624  The Unschooled Wizard (Sun Wolf and Starhawk, ...           4.03   \n",
       "3  6066819                               Best Friends Forever           3.49   \n",
       "4   287140  Runic Astrology: Starcraft and Timekeeping in ...           3.40   \n",
       "\n",
       "  ratings_count publication_year language_code  \\\n",
       "0             3             1984                 \n",
       "1            10             2001                 \n",
       "2           140             1987           eng   \n",
       "3         51184             2009           eng   \n",
       "4            15                                  \n",
       "\n",
       "                                           image_url  \\\n",
       "0  https://images.gr-assets.com/books/1310220028m...   \n",
       "1  https://s.gr-assets.com/assets/nophoto/book/11...   \n",
       "2  https://images.gr-assets.com/books/1304100136m...   \n",
       "3  https://s.gr-assets.com/assets/nophoto/book/11...   \n",
       "4  https://images.gr-assets.com/books/1413219371m...   \n",
       "\n",
       "                                                 url  \n",
       "0  https://www.goodreads.com/book/show/5333265-w-...  \n",
       "1  https://www.goodreads.com/book/show/1333909.Go...  \n",
       "2  https://www.goodreads.com/book/show/7327624-th...  \n",
       "3  https://www.goodreads.com/book/show/6066819-be...  \n",
       "4  https://www.goodreads.com/book/show/287140.Run...  "
      ]
     },
     "metadata": {},
     "output_type": "display_data"
    },
    {
     "name": "stdout",
     "output_type": "stream",
     "text": [
      "<class 'pandas.core.frame.DataFrame'>\n",
      "RangeIndex: 2360655 entries, 0 to 2360654\n",
      "Data columns (total 8 columns):\n",
      " #   Column            Dtype \n",
      "---  ------            ----- \n",
      " 0   book_id           object\n",
      " 1   title             object\n",
      " 2   average_rating    object\n",
      " 3   ratings_count     object\n",
      " 4   publication_year  object\n",
      " 5   language_code     object\n",
      " 6   image_url         object\n",
      " 7   url               object\n",
      "dtypes: object(8)\n",
      "memory usage: 144.1+ MB\n"
     ]
    }
   ],
   "source": [
    "# View df_books info\n",
    "display(df_books.head())\n",
    "df_books.info()"
   ]
  },
  {
   "cell_type": "code",
   "execution_count": 36,
   "metadata": {},
   "outputs": [],
   "source": [
    "# Convert df_books datatypes \n",
    "df_books['book_id'] = df_books['book_id'].astype(\"Int64\")\n",
    "df_books['ratings_count'] = pd.to_numeric(df_books[\"ratings_count\"], errors='coerce').astype('Int32')\n",
    "df_books['publication_year'] = pd.to_numeric(df_books[\"publication_year\"], errors='coerce').astype('Int32')\n",
    "df_books[\"average_rating\"] = df_books[\"average_rating\"].replace('',\"0\").astype(\"float\")"
   ]
  },
  {
   "cell_type": "code",
   "execution_count": 37,
   "metadata": {},
   "outputs": [],
   "source": [
    "# Join df_genres on df_books\n",
    "df_books = pd.merge(df_books, df_genres, how=\"left\", on=\"book_id\")\n",
    "\n",
    "# Parse rating_dist into columns\n",
    "rating_dist = []\n",
    "for nt in df_books_short.itertuples():\n",
    "    split = nt.rating_dist.split(\"|\")\n",
    "    dist = []\n",
    "    for i in range(5):\n",
    "        n = int(split[i][2:])\n",
    "        dist.append(n)\n",
    "    rating_dist.append(dist)\n",
    "\n",
    "df_books_short[[\"5_star\", \"4_star\", \"3_star\", \"2_star\", \"1_star\"]] = rating_dist\n",
    "\n",
    "# Compute ratings avg and make smaller df_books_short\n",
    "df_books_short[\"avg\"] = df_books_short[\"ratings_sum\"] / df_books_short[\"ratings_count\"]\n",
    "df_books_short = df_books_short[[\n",
    "    \"best_book_id\", \n",
    "    \"original_publication_year\", \n",
    "    \"ratings_count\", \n",
    "    \"avg\",\n",
    "    \"5_star\", \"4_star\", \"3_star\", \"2_star\", \"1_star\"]]\n",
    "df_books_short[\"original_publication_year\"] = pd.to_numeric(\n",
    "                                                df_books_short[\"original_publication_year\"], \n",
    "                                                errors='coerce').astype('Int32')\n",
    "\n",
    "# Join on df_books\n",
    "df_books = pd.merge(df_books, df_books_short, how=\"left\", left_on=\"book_id\", right_on=\"best_book_id\")\n",
    "\n",
    "# Populate new df_books with first non-null of each field from old df_books\n",
    "years = []\n",
    "ratings_counts = []\n",
    "average_ratings = []\n",
    "for nt in df_books.itertuples():\n",
    "    \n",
    "    if not isinstance(nt.publication_year, pd._libs.missing.NAType):\n",
    "        years.append(nt.publication_year)\n",
    "    else:\n",
    "        years.append(nt.original_publication_year)\n",
    "        \n",
    "    if not isinstance(nt.ratings_count_x, pd._libs.missing.NAType):\n",
    "        ratings_counts.append(nt.ratings_count_x)\n",
    "    else:\n",
    "        ratings_counts.append(nt.ratings_count_y)\n",
    "    \n",
    "    if not isinstance(nt.average_rating, pd._libs.missing.NAType):\n",
    "        average_ratings.append(nt.average_rating)\n",
    "    else:\n",
    "        average_ratings.append(nt.avg)\n",
    "\n",
    "df_books[\"year\"] = years\n",
    "df_books[\"ratings_count\"] = ratings_counts\n",
    "df_books[\"avg_rating\"] = average_ratings"
   ]
  },
  {
   "cell_type": "code",
   "execution_count": 38,
   "metadata": {},
   "outputs": [
    {
     "name": "stdout",
     "output_type": "stream",
     "text": [
      "Number of books: 2360655\n",
      "...with > 100 ratings: 497488\n",
      "...and valid years: 435404\n",
      "...and english or null language: 386692\n",
      "After filtering & dropping duplicates: 331651\n"
     ]
    }
   ],
   "source": [
    "# Cut down to final df_books table and save to csv\n",
    "df_books = df_books[[\n",
    "    \"book_id\",\n",
    "    \"title\",\n",
    "    \"avg_rating\",\n",
    "    \"ratings_count\",\n",
    "    \"year\",\n",
    "    \"language_code\",\n",
    "    \"image_url\",\n",
    "    \"url\",\n",
    "    \"history\",\n",
    "    \"fiction\",\n",
    "    \"fantasy\",\n",
    "    \"mystery\",\n",
    "    \"poetry\",\n",
    "    \"romance\",\n",
    "    \"non_fiction\",\n",
    "    \"children\",\n",
    "    \"YA\",\n",
    "    \"comic\",\n",
    "    \"none\",\n",
    "    \"5_star\",\n",
    "    \"4_star\",\n",
    "    \"3_star\",\n",
    "    \"2_star\",\n",
    "    \"1_star\",\n",
    "]]\n",
    "\n",
    "df_books[\"ratings_count\"].fillna(0, inplace=True)\n",
    "print(f\"Number of books: {df_books.shape[0]}\")\n",
    "\n",
    "# Filter out books with less than 100 ratings\n",
    "df_books = df_books[df_books[\"ratings_count\"] > 100]\n",
    "print(f\"...with > 100 ratings: {df_books.shape[0]}\")\n",
    "\n",
    "# Get rid of corrupted years\n",
    "df_books[\"year\"] = pd.to_numeric(df_books[\"year\"], errors='coerce').astype('Int32')\n",
    "df_books = df_books[df_books[\"year\"] <= 2023]\n",
    "print(f\"...and valid years: {df_books.shape[0]}\")\n",
    "\n",
    "# Keep only english or null language books\n",
    "df_books = df_books[df_books[\"language_code\"].isin([\"\",\"eng\",\"en-US\",\"en-GB\",\"en-CA\"])]\n",
    "print(f\"...and english or null language: {df_books.shape[0]}\")\n",
    "\n",
    "# Drop duplicates on title and rating\n",
    "df_books = df_books.sort_values(by=\"ratings_count\").drop_duplicates(subset=[\"title\", \"avg_rating\"])\n",
    "print(f\"After filtering & dropping duplicates: {df_books.shape[0]}\")\n",
    "\n",
    "# Save as csv\n",
    "df_books.to_csv(wd + \"/data/goodreads_books.csv\", index=False)"
   ]
  },
  {
   "cell_type": "markdown",
   "metadata": {},
   "source": [
    "### Part 1b - Books Data EDA"
   ]
  },
  {
   "cell_type": "code",
   "execution_count": 59,
   "metadata": {},
   "outputs": [
    {
     "data": {
      "image/png": "[encoded data removed]",
      "text/plain": [
       "<Figure size 504x360 with 1 Axes>"
      ]
     },
     "metadata": {
      "needs_background": "light"
     },
     "output_type": "display_data"
    }
   ],
   "source": [
    "# Plot ratings distribution\n",
    "fig, ax = plt.subplots(figsize=(7,5))\n",
    "df_books[\"avg_rating\"].hist(bins=100)\n",
    "plt.title(\"Count of Books by Avg. Rating\")\n",
    "plt.ylabel(None)\n",
    "plt.show()"
   ]
  },
  {
   "cell_type": "code",
   "execution_count": 64,
   "metadata": {},
   "outputs": [
    {
     "data": {
      "image/png": "[encoded data removed]",
      "text/plain": [
       "<Figure size 504x360 with 1 Axes>"
      ]
     },
     "metadata": {
      "needs_background": "light"
     },
     "output_type": "display_data"
    }
   ],
   "source": [
    "# Plot rating count by book\n",
    "fig, ax = plt.subplots(figsize=(7,5))\n",
    "df_books[\"ratings_count\"].hist(bins=50)\n",
    "plt.title(\"Count of Books by Rating Count\")\n",
    "plt.ylabel(None)\n",
    "plt.show()"
   ]
  },
  {
   "cell_type": "code",
   "execution_count": 50,
   "metadata": {},
   "outputs": [
    {
     "data": {
      "image/png": "[encoded data removed]",
      "text/plain": [
       "<Figure size 720x360 with 1 Axes>"
      ]
     },
     "metadata": {
      "needs_background": "light"
     },
     "output_type": "display_data"
    }
   ],
   "source": [
    "# Plot publishing year\n",
    "fig, ax = plt.subplots(figsize=(10,5))\n",
    "sns.countplot(\n",
    "    data=df_books[df_books[\"year\"] > 1800],\n",
    "    x=\"year\"\n",
    ")\n",
    "new_ticks = [i.get_text() for i in ax.get_xticklabels()]\n",
    "plt.xticks(range(0, len(new_ticks), 20), new_ticks[::20])\n",
    "plt.title(\"Count of Books by Publishing Year\")\n",
    "plt.ylabel(None)\n",
    "plt.show()"
   ]
  },
  {
   "cell_type": "code",
   "execution_count": 77,
   "metadata": {},
   "outputs": [
    {
     "data": {
      "image/png": "[encoded data removed]",
      "text/plain": [
       "<Figure size 504x360 with 1 Axes>"
      ]
     },
     "metadata": {
      "needs_background": "light"
     },
     "output_type": "display_data"
    }
   ],
   "source": [
    "# Plot number of reviews by star count\n",
    "five, four, three = df_books[\"5_star\"].sum(), df_books[\"4_star\"].sum(), df_books[\"3_star\"].sum()\n",
    "two, one = df_books[\"2_star\"].sum(), df_books[\"1_star\"].sum()\n",
    "\n",
    "star_counts = pd.DataFrame([five, four, three, two, one]).T\\\n",
    "                .rename(columns={0:\"Five Star\", 1:\"Four Star\", 2:\"Three Star\", 3:\"Two Star\", 4:\"One Star\"})\n",
    "\n",
    "fig, ax = plt.subplots(figsize=(7,5))\n",
    "star_counts.T.plot(kind=\"bar\", ax=ax, label=None)\n",
    "plt.title(\"Number of Reviews with X Stars\")\n",
    "plt.show()"
   ]
  },
  {
   "cell_type": "markdown",
   "metadata": {},
   "source": [
    "### Part 2a - Importing and cleaning user review data"
   ]
  },
  {
   "cell_type": "code",
   "execution_count": 78,
   "metadata": {},
   "outputs": [
    {
     "name": "stdout",
     "output_type": "stream",
     "text": [
      "Processing row: 15,700,000\n",
      "Completed! Processed 15,739,967 rows\n"
     ]
    }
   ],
   "source": [
    "# Read in select fields from long version of reviews table\n",
    "col_names = [\"user_id\",\"book_id\",\"review_id\",\"rating\"]\n",
    "json_data = []\n",
    "download_data(\"goodreads_reviews_dedup.json.gz\", \"goodreads_reviews_dedup.json\")\n",
    "file_name = wd + \"/goodreads_reviews_dedup.json\"\n",
    "\n",
    "with open(file_name, encoding='UTF-8') as f:\n",
    "    i = 0\n",
    "    for line in f:\n",
    "        doc = json.loads(line)\n",
    "        lst = [doc[col_names[i]] for i in range(len(col_names))]\n",
    "        json_data.append(lst)\n",
    "        if i % 50000 == 0:\n",
    "            clear_output(wait=True)\n",
    "            print(f\"Processing row: {i:,d}\")\n",
    "        i += 1\n",
    "    print(f\"Completed! Processed {i:,d} rows\")\n",
    "\n",
    "df_reviews = pd.DataFrame(data=json_data, columns=col_names)"
   ]
  },
  {
   "cell_type": "code",
   "execution_count": 79,
   "metadata": {},
   "outputs": [
    {
     "data": {
      "text/html": [
       "<div>\n",
       "<style scoped>\n",
       "    .dataframe tbody tr th:only-of-type {\n",
       "        vertical-align: middle;\n",
       "    }\n",
       "\n",
       "    .dataframe tbody tr th {\n",
       "        vertical-align: top;\n",
       "    }\n",
       "\n",
       "    .dataframe thead th {\n",
       "        text-align: right;\n",
       "    }\n",
       "</style>\n",
       "<table border=\"1\" class=\"dataframe\">\n",
       "  <thead>\n",
       "    <tr style=\"text-align: right;\">\n",
       "      <th></th>\n",
       "      <th>user_id</th>\n",
       "      <th>book_id</th>\n",
       "      <th>review_id</th>\n",
       "      <th>rating</th>\n",
       "    </tr>\n",
       "  </thead>\n",
       "  <tbody>\n",
       "    <tr>\n",
       "      <th>0</th>\n",
       "      <td>8842281e1d1347389f2ab93d60773d4d</td>\n",
       "      <td>24375664</td>\n",
       "      <td>5cd416f3efc3f944fce4ce2db2290d5e</td>\n",
       "      <td>5</td>\n",
       "    </tr>\n",
       "    <tr>\n",
       "      <th>1</th>\n",
       "      <td>8842281e1d1347389f2ab93d60773d4d</td>\n",
       "      <td>18245960</td>\n",
       "      <td>dfdbb7b0eb5a7e4c26d59a937e2e5feb</td>\n",
       "      <td>5</td>\n",
       "    </tr>\n",
       "    <tr>\n",
       "      <th>2</th>\n",
       "      <td>8842281e1d1347389f2ab93d60773d4d</td>\n",
       "      <td>6392944</td>\n",
       "      <td>5e212a62bced17b4dbe41150e5bb9037</td>\n",
       "      <td>3</td>\n",
       "    </tr>\n",
       "    <tr>\n",
       "      <th>3</th>\n",
       "      <td>8842281e1d1347389f2ab93d60773d4d</td>\n",
       "      <td>22078596</td>\n",
       "      <td>fdd13cad0695656be99828cd75d6eb73</td>\n",
       "      <td>4</td>\n",
       "    </tr>\n",
       "    <tr>\n",
       "      <th>4</th>\n",
       "      <td>8842281e1d1347389f2ab93d60773d4d</td>\n",
       "      <td>6644782</td>\n",
       "      <td>bd0df91c9d918c0e433b9ab3a9a5c451</td>\n",
       "      <td>4</td>\n",
       "    </tr>\n",
       "  </tbody>\n",
       "</table>\n",
       "</div>"
      ],
      "text/plain": [
       "                            user_id   book_id  \\\n",
       "0  8842281e1d1347389f2ab93d60773d4d  24375664   \n",
       "1  8842281e1d1347389f2ab93d60773d4d  18245960   \n",
       "2  8842281e1d1347389f2ab93d60773d4d   6392944   \n",
       "3  8842281e1d1347389f2ab93d60773d4d  22078596   \n",
       "4  8842281e1d1347389f2ab93d60773d4d   6644782   \n",
       "\n",
       "                          review_id  rating  \n",
       "0  5cd416f3efc3f944fce4ce2db2290d5e       5  \n",
       "1  dfdbb7b0eb5a7e4c26d59a937e2e5feb       5  \n",
       "2  5e212a62bced17b4dbe41150e5bb9037       3  \n",
       "3  fdd13cad0695656be99828cd75d6eb73       4  \n",
       "4  bd0df91c9d918c0e433b9ab3a9a5c451       4  "
      ]
     },
     "metadata": {},
     "output_type": "display_data"
    },
    {
     "name": "stdout",
     "output_type": "stream",
     "text": [
      "<class 'pandas.core.frame.DataFrame'>\n",
      "RangeIndex: 15739967 entries, 0 to 15739966\n",
      "Data columns (total 4 columns):\n",
      " #   Column     Dtype \n",
      "---  ------     ----- \n",
      " 0   user_id    object\n",
      " 1   book_id    object\n",
      " 2   review_id  object\n",
      " 3   rating     int64 \n",
      "dtypes: int64(1), object(3)\n",
      "memory usage: 480.3+ MB\n",
      "None\n"
     ]
    }
   ],
   "source": [
    "# Inspect\n",
    "display(df_reviews.head())\n",
    "print(df_reviews.info())"
   ]
  },
  {
   "cell_type": "code",
   "execution_count": 80,
   "metadata": {},
   "outputs": [
    {
     "data": {
      "text/html": [
       "<div>\n",
       "<style scoped>\n",
       "    .dataframe tbody tr th:only-of-type {\n",
       "        vertical-align: middle;\n",
       "    }\n",
       "\n",
       "    .dataframe tbody tr th {\n",
       "        vertical-align: top;\n",
       "    }\n",
       "\n",
       "    .dataframe thead th {\n",
       "        text-align: right;\n",
       "    }\n",
       "</style>\n",
       "<table border=\"1\" class=\"dataframe\">\n",
       "  <thead>\n",
       "    <tr style=\"text-align: right;\">\n",
       "      <th></th>\n",
       "      <th>review_id</th>\n",
       "    </tr>\n",
       "  </thead>\n",
       "  <tbody>\n",
       "    <tr>\n",
       "      <th>count</th>\n",
       "      <td>465323.000000</td>\n",
       "    </tr>\n",
       "    <tr>\n",
       "      <th>mean</th>\n",
       "      <td>33.825895</td>\n",
       "    </tr>\n",
       "    <tr>\n",
       "      <th>std</th>\n",
       "      <td>117.415545</td>\n",
       "    </tr>\n",
       "    <tr>\n",
       "      <th>min</th>\n",
       "      <td>1.000000</td>\n",
       "    </tr>\n",
       "    <tr>\n",
       "      <th>25%</th>\n",
       "      <td>2.000000</td>\n",
       "    </tr>\n",
       "    <tr>\n",
       "      <th>50%</th>\n",
       "      <td>6.000000</td>\n",
       "    </tr>\n",
       "    <tr>\n",
       "      <th>75%</th>\n",
       "      <td>22.000000</td>\n",
       "    </tr>\n",
       "    <tr>\n",
       "      <th>max</th>\n",
       "      <td>21811.000000</td>\n",
       "    </tr>\n",
       "  </tbody>\n",
       "</table>\n",
       "</div>"
      ],
      "text/plain": [
       "           review_id\n",
       "count  465323.000000\n",
       "mean       33.825895\n",
       "std       117.415545\n",
       "min         1.000000\n",
       "25%         2.000000\n",
       "50%         6.000000\n",
       "75%        22.000000\n",
       "max     21811.000000"
      ]
     },
     "execution_count": 80,
     "metadata": {},
     "output_type": "execute_result"
    }
   ],
   "source": [
    "# View number of reviews by user\n",
    "df_reviews.groupby([\"user_id\"])[\"review_id\"].count().reset_index().describe()"
   ]
  },
  {
   "cell_type": "code",
   "execution_count": null,
   "metadata": {},
   "outputs": [
    {
     "data": {
      "image/png": "[encoded data removed]",
      "text/plain": [
       "<Figure size 504x360 with 1 Axes>"
      ]
     },
     "metadata": {
      "needs_background": "light"
     },
     "output_type": "display_data"
    }
   ],
   "source": [
    "# View distribution of average reviews by user\n",
    "fig, ax = plt.subplots(figsize=(7,5))\n",
    "sns.histplot(\n",
    "    data=df_reviews.groupby([\"user_id\"])[\"rating\"].mean().reset_index()\n",
    "    )\n",
    "plt.title(\"Count of Users by Avg Score\")\n",
    "plt.ylabel(None)\n",
    "plt.show()"
   ]
  },
  {
   "cell_type": "code",
   "execution_count": 81,
   "metadata": {},
   "outputs": [],
   "source": [
    "# Keep only users with more than median number of reviews\n",
    "user_rev_count = df_reviews.groupby([\"user_id\"])[\"review_id\"].count().reset_index()\n",
    "user_rev_count = user_rev_count[user_rev_count[\"review_id\"] >= user_rev_count[\"review_id\"].median()]\n",
    "df_reviews = df_reviews[df_reviews[\"user_id\"].isin(user_rev_count[\"user_id\"].unique())]"
   ]
  },
  {
   "cell_type": "code",
   "execution_count": 82,
   "metadata": {},
   "outputs": [
    {
     "data": {
      "text/plain": [
       "<245119x2052665 sparse matrix of type '<class 'numpy.int64'>'\n",
       "\twith 15241069 stored elements in Compressed Sparse Row format>"
      ]
     },
     "execution_count": 82,
     "metadata": {},
     "output_type": "execute_result"
    }
   ],
   "source": [
    "# Pivot and convert to sparse matrix\n",
    "user = CategoricalDtype(sorted(df_reviews[\"user_id\"].unique()), ordered=True)\n",
    "book = CategoricalDtype(sorted(df_reviews[\"book_id\"].unique()), ordered=True)\n",
    "\n",
    "row = df_reviews[\"user_id\"].astype(user).cat.codes\n",
    "col = df_reviews[\"book_id\"].astype(book).cat.codes\n",
    "sparse_reviews = csr_matrix(\n",
    "        (df_reviews[\"rating\"], (row, col)), shape=(user.categories.size, book.categories.size)\n",
    "    )\n",
    "sparse_reviews"
   ]
  },
  {
   "cell_type": "code",
   "execution_count": 85,
   "metadata": {},
   "outputs": [],
   "source": [
    "# Get list of users and books to use as indices for sparse matrix\n",
    "user_index = pd.Series(user.categories)\n",
    "book_index = pd.Series(book.categories)\n",
    "\n",
    "# Save indices as csv\n",
    "user_index.to_csv(wd + \"/data/user_index_for_sparse_matrix.csv\", index=False)\n",
    "book_index.to_csv(wd + \"/data/book_index_for_sparse_matrix.csv\", index=False)"
   ]
  },
  {
   "cell_type": "code",
   "execution_count": null,
   "metadata": {},
   "outputs": [],
   "source": [
    "# Save sparse matrix\n",
    "save_npz(wd + \"/data/goodreads_data/user_reviews.npz\", sparse_reviews)"
   ]
  },
  {
   "cell_type": "code",
   "execution_count": 84,
   "metadata": {},
   "outputs": [],
   "source": [
    "# Remove large raw files \n",
    "os.remove(wd + \"/genres.json\")\n",
    "os.remove(wd + \"/goodreads_book_genres_initial.json.gz\")\n",
    "\n",
    "os.remove(wd + \"/goodreads_book_works.json\")\n",
    "os.remove(wd + \"/goodreads_book_works.json.gz\")\n",
    "\n",
    "os.remove(wd + \"/goodreads_books.json\")\n",
    "os.remove(wd + \"/goodreads_books.json.gz\")\n",
    "\n",
    "os.remove(wd + \"/goodreads_reviews_dedup.json\")\n",
    "os.remove(wd + \"/goodreads_reviews_dedup.json.gz\")"
   ]
  }
 ],
 "metadata": {
  "kernelspec": {
   "display_name": "base",
   "language": "python",
   "name": "python3"
  },
  "language_info": {
   "codemirror_mode": {
    "name": "ipython",
    "version": 3
   },
   "file_extension": ".py",
   "mimetype": "text/x-python",
   "name": "python",
   "nbconvert_exporter": "python",
   "pygments_lexer": "ipython3",
   "version": "3.9.7"
  },
  "orig_nbformat": 4
 },
 "nbformat": 4,
 "nbformat_minor": 2
}
